{
 "cells": [
  {
   "cell_type": "markdown",
   "id": "6129427d",
   "metadata": {},
   "source": [
    "# Saudi Marathon EDA"
   ]
  },
  {
   "cell_type": "markdown",
   "id": "226b12f8",
   "metadata": {},
   "source": [
    "##### Performing Exploratory Data Analytics of Ultra Marathon Data set focusing on data that relevent to Saudi"
   ]
  },
  {
   "cell_type": "markdown",
   "id": "c0d7a27f",
   "metadata": {},
   "source": [
    "## Importing Libraries"
   ]
  },
  {
   "cell_type": "code",
   "execution_count": 3,
   "id": "4846300d",
   "metadata": {},
   "outputs": [],
   "source": [
    "import pandas as pd\n",
    "import seaborn as sns\n",
    "import matplotlib.pyplot as plt\n"
   ]
  },
  {
   "cell_type": "markdown",
   "id": "af305f6d",
   "metadata": {},
   "source": [
    "## Loading of the Dataset"
   ]
  },
  {
   "cell_type": "code",
   "execution_count": 4,
   "id": "9511ae30",
   "metadata": {},
   "outputs": [],
   "source": [
    "df = pd.read_csv(r'D:/Data_Analytics/datasets/TWO_CENTURIES_OF_UM_RACES.csv', low_memory=False)"
   ]
  },
  {
   "cell_type": "markdown",
   "id": "49328a08",
   "metadata": {},
   "source": [
    "## Checking the information of the dataset\n"
   ]
  },
  {
   "cell_type": "code",
   "execution_count": 5,
   "id": "86f996e7",
   "metadata": {},
   "outputs": [
    {
     "data": {
      "text/html": [
       "<div>\n",
       "<style scoped>\n",
       "    .dataframe tbody tr th:only-of-type {\n",
       "        vertical-align: middle;\n",
       "    }\n",
       "\n",
       "    .dataframe tbody tr th {\n",
       "        vertical-align: top;\n",
       "    }\n",
       "\n",
       "    .dataframe thead th {\n",
       "        text-align: right;\n",
       "    }\n",
       "</style>\n",
       "<table border=\"1\" class=\"dataframe\">\n",
       "  <thead>\n",
       "    <tr style=\"text-align: right;\">\n",
       "      <th></th>\n",
       "      <th>Year of event</th>\n",
       "      <th>Event dates</th>\n",
       "      <th>Event name</th>\n",
       "      <th>Event distance/length</th>\n",
       "      <th>Event number of finishers</th>\n",
       "      <th>Athlete performance</th>\n",
       "      <th>Athlete club</th>\n",
       "      <th>Athlete country</th>\n",
       "      <th>Athlete year of birth</th>\n",
       "      <th>Athlete gender</th>\n",
       "      <th>Athlete age category</th>\n",
       "      <th>Athlete average speed</th>\n",
       "      <th>Athlete ID</th>\n",
       "    </tr>\n",
       "  </thead>\n",
       "  <tbody>\n",
       "    <tr>\n",
       "      <th>0</th>\n",
       "      <td>2018</td>\n",
       "      <td>06.01.2018</td>\n",
       "      <td>Selva Costera (CHI)</td>\n",
       "      <td>50km</td>\n",
       "      <td>22</td>\n",
       "      <td>4:51:39 h</td>\n",
       "      <td>Tnfrc</td>\n",
       "      <td>CHI</td>\n",
       "      <td>1978.0</td>\n",
       "      <td>M</td>\n",
       "      <td>M35</td>\n",
       "      <td>10.286</td>\n",
       "      <td>0</td>\n",
       "    </tr>\n",
       "    <tr>\n",
       "      <th>1</th>\n",
       "      <td>2018</td>\n",
       "      <td>06.01.2018</td>\n",
       "      <td>Selva Costera (CHI)</td>\n",
       "      <td>50km</td>\n",
       "      <td>22</td>\n",
       "      <td>5:15:45 h</td>\n",
       "      <td>Roberto Echeverría</td>\n",
       "      <td>CHI</td>\n",
       "      <td>1981.0</td>\n",
       "      <td>M</td>\n",
       "      <td>M35</td>\n",
       "      <td>9.501</td>\n",
       "      <td>1</td>\n",
       "    </tr>\n",
       "    <tr>\n",
       "      <th>2</th>\n",
       "      <td>2018</td>\n",
       "      <td>06.01.2018</td>\n",
       "      <td>Selva Costera (CHI)</td>\n",
       "      <td>50km</td>\n",
       "      <td>22</td>\n",
       "      <td>5:16:44 h</td>\n",
       "      <td>Puro Trail Osorno</td>\n",
       "      <td>CHI</td>\n",
       "      <td>1987.0</td>\n",
       "      <td>M</td>\n",
       "      <td>M23</td>\n",
       "      <td>9.472</td>\n",
       "      <td>2</td>\n",
       "    </tr>\n",
       "    <tr>\n",
       "      <th>3</th>\n",
       "      <td>2018</td>\n",
       "      <td>06.01.2018</td>\n",
       "      <td>Selva Costera (CHI)</td>\n",
       "      <td>50km</td>\n",
       "      <td>22</td>\n",
       "      <td>5:34:13 h</td>\n",
       "      <td>Columbia</td>\n",
       "      <td>ARG</td>\n",
       "      <td>1976.0</td>\n",
       "      <td>M</td>\n",
       "      <td>M40</td>\n",
       "      <td>8.976</td>\n",
       "      <td>3</td>\n",
       "    </tr>\n",
       "    <tr>\n",
       "      <th>4</th>\n",
       "      <td>2018</td>\n",
       "      <td>06.01.2018</td>\n",
       "      <td>Selva Costera (CHI)</td>\n",
       "      <td>50km</td>\n",
       "      <td>22</td>\n",
       "      <td>5:54:14 h</td>\n",
       "      <td>Baguales Trail</td>\n",
       "      <td>CHI</td>\n",
       "      <td>1992.0</td>\n",
       "      <td>M</td>\n",
       "      <td>M23</td>\n",
       "      <td>8.469</td>\n",
       "      <td>4</td>\n",
       "    </tr>\n",
       "    <tr>\n",
       "      <th>5</th>\n",
       "      <td>2018</td>\n",
       "      <td>06.01.2018</td>\n",
       "      <td>Selva Costera (CHI)</td>\n",
       "      <td>50km</td>\n",
       "      <td>22</td>\n",
       "      <td>6:25:01 h</td>\n",
       "      <td>NaN</td>\n",
       "      <td>ARG</td>\n",
       "      <td>1974.0</td>\n",
       "      <td>M</td>\n",
       "      <td>M40</td>\n",
       "      <td>7.792</td>\n",
       "      <td>5</td>\n",
       "    </tr>\n",
       "    <tr>\n",
       "      <th>6</th>\n",
       "      <td>2018</td>\n",
       "      <td>06.01.2018</td>\n",
       "      <td>Selva Costera (CHI)</td>\n",
       "      <td>50km</td>\n",
       "      <td>22</td>\n",
       "      <td>6:28:00 h</td>\n",
       "      <td>Los Patagones</td>\n",
       "      <td>ARG</td>\n",
       "      <td>1979.0</td>\n",
       "      <td>F</td>\n",
       "      <td>W35</td>\n",
       "      <td>7.732</td>\n",
       "      <td>6</td>\n",
       "    </tr>\n",
       "    <tr>\n",
       "      <th>7</th>\n",
       "      <td>2018</td>\n",
       "      <td>06.01.2018</td>\n",
       "      <td>Selva Costera (CHI)</td>\n",
       "      <td>50km</td>\n",
       "      <td>22</td>\n",
       "      <td>6:32:24 h</td>\n",
       "      <td>Reaktiva Chile</td>\n",
       "      <td>CHI</td>\n",
       "      <td>1967.0</td>\n",
       "      <td>F</td>\n",
       "      <td>W50</td>\n",
       "      <td>7.645</td>\n",
       "      <td>7</td>\n",
       "    </tr>\n",
       "    <tr>\n",
       "      <th>8</th>\n",
       "      <td>2018</td>\n",
       "      <td>06.01.2018</td>\n",
       "      <td>Selva Costera (CHI)</td>\n",
       "      <td>50km</td>\n",
       "      <td>22</td>\n",
       "      <td>6:39:08 h</td>\n",
       "      <td>Puro Trail Osorno</td>\n",
       "      <td>CHI</td>\n",
       "      <td>1985.0</td>\n",
       "      <td>M</td>\n",
       "      <td>M23</td>\n",
       "      <td>7.516</td>\n",
       "      <td>8</td>\n",
       "    </tr>\n",
       "    <tr>\n",
       "      <th>9</th>\n",
       "      <td>2018</td>\n",
       "      <td>06.01.2018</td>\n",
       "      <td>Selva Costera (CHI)</td>\n",
       "      <td>50km</td>\n",
       "      <td>22</td>\n",
       "      <td>6:45:11 h</td>\n",
       "      <td>Marlene Flores Team</td>\n",
       "      <td>CHI</td>\n",
       "      <td>1976.0</td>\n",
       "      <td>M</td>\n",
       "      <td>M40</td>\n",
       "      <td>7.404</td>\n",
       "      <td>9</td>\n",
       "    </tr>\n",
       "  </tbody>\n",
       "</table>\n",
       "</div>"
      ],
      "text/plain": [
       "   Year of event Event dates           Event name Event distance/length  \\\n",
       "0           2018  06.01.2018  Selva Costera (CHI)                  50km   \n",
       "1           2018  06.01.2018  Selva Costera (CHI)                  50km   \n",
       "2           2018  06.01.2018  Selva Costera (CHI)                  50km   \n",
       "3           2018  06.01.2018  Selva Costera (CHI)                  50km   \n",
       "4           2018  06.01.2018  Selva Costera (CHI)                  50km   \n",
       "5           2018  06.01.2018  Selva Costera (CHI)                  50km   \n",
       "6           2018  06.01.2018  Selva Costera (CHI)                  50km   \n",
       "7           2018  06.01.2018  Selva Costera (CHI)                  50km   \n",
       "8           2018  06.01.2018  Selva Costera (CHI)                  50km   \n",
       "9           2018  06.01.2018  Selva Costera (CHI)                  50km   \n",
       "\n",
       "   Event number of finishers Athlete performance         Athlete club  \\\n",
       "0                         22           4:51:39 h                Tnfrc   \n",
       "1                         22           5:15:45 h   Roberto Echeverría   \n",
       "2                         22           5:16:44 h    Puro Trail Osorno   \n",
       "3                         22           5:34:13 h             Columbia   \n",
       "4                         22           5:54:14 h       Baguales Trail   \n",
       "5                         22           6:25:01 h                  NaN   \n",
       "6                         22           6:28:00 h        Los Patagones   \n",
       "7                         22           6:32:24 h       Reaktiva Chile   \n",
       "8                         22           6:39:08 h    Puro Trail Osorno   \n",
       "9                         22           6:45:11 h  Marlene Flores Team   \n",
       "\n",
       "  Athlete country  Athlete year of birth Athlete gender Athlete age category  \\\n",
       "0             CHI                 1978.0              M                  M35   \n",
       "1             CHI                 1981.0              M                  M35   \n",
       "2             CHI                 1987.0              M                  M23   \n",
       "3             ARG                 1976.0              M                  M40   \n",
       "4             CHI                 1992.0              M                  M23   \n",
       "5             ARG                 1974.0              M                  M40   \n",
       "6             ARG                 1979.0              F                  W35   \n",
       "7             CHI                 1967.0              F                  W50   \n",
       "8             CHI                 1985.0              M                  M23   \n",
       "9             CHI                 1976.0              M                  M40   \n",
       "\n",
       "  Athlete average speed  Athlete ID  \n",
       "0                10.286           0  \n",
       "1                 9.501           1  \n",
       "2                 9.472           2  \n",
       "3                 8.976           3  \n",
       "4                 8.469           4  \n",
       "5                 7.792           5  \n",
       "6                 7.732           6  \n",
       "7                 7.645           7  \n",
       "8                 7.516           8  \n",
       "9                 7.404           9  "
      ]
     },
     "execution_count": 5,
     "metadata": {},
     "output_type": "execute_result"
    }
   ],
   "source": [
    "df.head(10)"
   ]
  },
  {
   "cell_type": "code",
   "execution_count": 6,
   "id": "181a5ddc",
   "metadata": {},
   "outputs": [
    {
     "data": {
      "text/plain": [
       "(7461195, 13)"
      ]
     },
     "execution_count": 6,
     "metadata": {},
     "output_type": "execute_result"
    }
   ],
   "source": [
    "df.shape"
   ]
  },
  {
   "cell_type": "code",
   "execution_count": 7,
   "id": "acee9a81",
   "metadata": {},
   "outputs": [
    {
     "name": "stdout",
     "output_type": "stream",
     "text": [
      "<class 'pandas.core.frame.DataFrame'>\n",
      "RangeIndex: 7461195 entries, 0 to 7461194\n",
      "Data columns (total 13 columns):\n",
      " #   Column                     Dtype  \n",
      "---  ------                     -----  \n",
      " 0   Year of event              int64  \n",
      " 1   Event dates                object \n",
      " 2   Event name                 object \n",
      " 3   Event distance/length      object \n",
      " 4   Event number of finishers  int64  \n",
      " 5   Athlete performance        object \n",
      " 6   Athlete club               object \n",
      " 7   Athlete country            object \n",
      " 8   Athlete year of birth      float64\n",
      " 9   Athlete gender             object \n",
      " 10  Athlete age category       object \n",
      " 11  Athlete average speed      object \n",
      " 12  Athlete ID                 int64  \n",
      "dtypes: float64(1), int64(3), object(9)\n",
      "memory usage: 740.0+ MB\n"
     ]
    }
   ],
   "source": [
    "df.info()"
   ]
  },
  {
   "cell_type": "markdown",
   "id": "02497d80",
   "metadata": {},
   "source": [
    "## Selecting Marathons That happened in Saudi"
   ]
  },
  {
   "cell_type": "code",
   "execution_count": 8,
   "id": "ef991292",
   "metadata": {},
   "outputs": [],
   "source": [
    "df = df[df['Event name'].str.contains(\"\\(KSA\\)\")]"
   ]
  },
  {
   "cell_type": "code",
   "execution_count": 9,
   "id": "6d0ca841",
   "metadata": {},
   "outputs": [
    {
     "data": {
      "text/html": [
       "<div>\n",
       "<style scoped>\n",
       "    .dataframe tbody tr th:only-of-type {\n",
       "        vertical-align: middle;\n",
       "    }\n",
       "\n",
       "    .dataframe tbody tr th {\n",
       "        vertical-align: top;\n",
       "    }\n",
       "\n",
       "    .dataframe thead th {\n",
       "        text-align: right;\n",
       "    }\n",
       "</style>\n",
       "<table border=\"1\" class=\"dataframe\">\n",
       "  <thead>\n",
       "    <tr style=\"text-align: right;\">\n",
       "      <th></th>\n",
       "      <th>Year of event</th>\n",
       "      <th>Event dates</th>\n",
       "      <th>Event name</th>\n",
       "      <th>Event distance/length</th>\n",
       "      <th>Event number of finishers</th>\n",
       "      <th>Athlete performance</th>\n",
       "      <th>Athlete club</th>\n",
       "      <th>Athlete country</th>\n",
       "      <th>Athlete year of birth</th>\n",
       "      <th>Athlete gender</th>\n",
       "      <th>Athlete age category</th>\n",
       "      <th>Athlete average speed</th>\n",
       "      <th>Athlete ID</th>\n",
       "    </tr>\n",
       "  </thead>\n",
       "  <tbody>\n",
       "    <tr>\n",
       "      <th>1034660</th>\n",
       "      <td>2016</td>\n",
       "      <td>15.10.2016</td>\n",
       "      <td>Hejaz Ultra 50 (KSA)</td>\n",
       "      <td>50km</td>\n",
       "      <td>10</td>\n",
       "      <td>6:35:00 h</td>\n",
       "      <td>33° Rima</td>\n",
       "      <td>FRA</td>\n",
       "      <td>1974.0</td>\n",
       "      <td>M</td>\n",
       "      <td>M40</td>\n",
       "      <td>7.595</td>\n",
       "      <td>84859</td>\n",
       "    </tr>\n",
       "    <tr>\n",
       "      <th>1034661</th>\n",
       "      <td>2016</td>\n",
       "      <td>15.10.2016</td>\n",
       "      <td>Hejaz Ultra 50 (KSA)</td>\n",
       "      <td>50km</td>\n",
       "      <td>10</td>\n",
       "      <td>6:43:00 h</td>\n",
       "      <td>NaN</td>\n",
       "      <td>FRA</td>\n",
       "      <td>1968.0</td>\n",
       "      <td>F</td>\n",
       "      <td>W45</td>\n",
       "      <td>7.444</td>\n",
       "      <td>235243</td>\n",
       "    </tr>\n",
       "    <tr>\n",
       "      <th>1034662</th>\n",
       "      <td>2016</td>\n",
       "      <td>15.10.2016</td>\n",
       "      <td>Hejaz Ultra 50 (KSA)</td>\n",
       "      <td>50km</td>\n",
       "      <td>10</td>\n",
       "      <td>6:56:00 h</td>\n",
       "      <td>NaN</td>\n",
       "      <td>SUI</td>\n",
       "      <td>1986.0</td>\n",
       "      <td>M</td>\n",
       "      <td>M23</td>\n",
       "      <td>7.212</td>\n",
       "      <td>494704</td>\n",
       "    </tr>\n",
       "    <tr>\n",
       "      <th>1034663</th>\n",
       "      <td>2016</td>\n",
       "      <td>15.10.2016</td>\n",
       "      <td>Hejaz Ultra 50 (KSA)</td>\n",
       "      <td>50km</td>\n",
       "      <td>10</td>\n",
       "      <td>7:53:00 h</td>\n",
       "      <td>NaN</td>\n",
       "      <td>FRA</td>\n",
       "      <td>1961.0</td>\n",
       "      <td>M</td>\n",
       "      <td>M55</td>\n",
       "      <td>6.342</td>\n",
       "      <td>355314</td>\n",
       "    </tr>\n",
       "    <tr>\n",
       "      <th>1034664</th>\n",
       "      <td>2016</td>\n",
       "      <td>15.10.2016</td>\n",
       "      <td>Hejaz Ultra 50 (KSA)</td>\n",
       "      <td>50km</td>\n",
       "      <td>10</td>\n",
       "      <td>8:07:00 h</td>\n",
       "      <td>Jeddah Road Runners</td>\n",
       "      <td>GBR</td>\n",
       "      <td>1962.0</td>\n",
       "      <td>M</td>\n",
       "      <td>M50</td>\n",
       "      <td>6.16</td>\n",
       "      <td>296295</td>\n",
       "    </tr>\n",
       "  </tbody>\n",
       "</table>\n",
       "</div>"
      ],
      "text/plain": [
       "         Year of event Event dates            Event name  \\\n",
       "1034660           2016  15.10.2016  Hejaz Ultra 50 (KSA)   \n",
       "1034661           2016  15.10.2016  Hejaz Ultra 50 (KSA)   \n",
       "1034662           2016  15.10.2016  Hejaz Ultra 50 (KSA)   \n",
       "1034663           2016  15.10.2016  Hejaz Ultra 50 (KSA)   \n",
       "1034664           2016  15.10.2016  Hejaz Ultra 50 (KSA)   \n",
       "\n",
       "        Event distance/length  Event number of finishers Athlete performance  \\\n",
       "1034660                  50km                         10           6:35:00 h   \n",
       "1034661                  50km                         10           6:43:00 h   \n",
       "1034662                  50km                         10           6:56:00 h   \n",
       "1034663                  50km                         10           7:53:00 h   \n",
       "1034664                  50km                         10           8:07:00 h   \n",
       "\n",
       "                Athlete club Athlete country  Athlete year of birth  \\\n",
       "1034660             33° Rima             FRA                 1974.0   \n",
       "1034661                  NaN             FRA                 1968.0   \n",
       "1034662                  NaN             SUI                 1986.0   \n",
       "1034663                  NaN             FRA                 1961.0   \n",
       "1034664  Jeddah Road Runners             GBR                 1962.0   \n",
       "\n",
       "        Athlete gender Athlete age category Athlete average speed  Athlete ID  \n",
       "1034660              M                  M40                 7.595       84859  \n",
       "1034661              F                  W45                 7.444      235243  \n",
       "1034662              M                  M23                 7.212      494704  \n",
       "1034663              M                  M55                 6.342      355314  \n",
       "1034664              M                  M50                  6.16      296295  "
      ]
     },
     "execution_count": 9,
     "metadata": {},
     "output_type": "execute_result"
    }
   ],
   "source": [
    "df.head()"
   ]
  },
  {
   "cell_type": "markdown",
   "id": "a178a644",
   "metadata": {},
   "source": [
    "## Data Cleaning and Tranformation\n",
    "\n"
   ]
  },
  {
   "cell_type": "code",
   "execution_count": 10,
   "id": "2b6d891d",
   "metadata": {},
   "outputs": [
    {
     "data": {
      "text/plain": [
       "Year of event                  0\n",
       "Event dates                    0\n",
       "Event name                     0\n",
       "Event distance/length          0\n",
       "Event number of finishers      0\n",
       "Athlete performance            0\n",
       "Athlete club                 212\n",
       "Athlete country                0\n",
       "Athlete year of birth         54\n",
       "Athlete gender                 0\n",
       "Athlete age category          54\n",
       "Athlete average speed          0\n",
       "Athlete ID                     0\n",
       "dtype: int64"
      ]
     },
     "execution_count": 10,
     "metadata": {},
     "output_type": "execute_result"
    }
   ],
   "source": [
    "# How many nulls we have?\n",
    "df.isnull().sum()"
   ]
  },
  {
   "cell_type": "code",
   "execution_count": 11,
   "id": "aa42fc3c",
   "metadata": {},
   "outputs": [
    {
     "data": {
      "text/plain": [
       "Year of event                  int64\n",
       "Event dates                   object\n",
       "Event name                    object\n",
       "Event distance/length         object\n",
       "Event number of finishers      int64\n",
       "Athlete performance           object\n",
       "Athlete club                  object\n",
       "Athlete country               object\n",
       "Athlete year of birth        float64\n",
       "Athlete gender                object\n",
       "Athlete age category          object\n",
       "Athlete average speed         object\n",
       "Athlete ID                     int64\n",
       "dtype: object"
      ]
     },
     "execution_count": 11,
     "metadata": {},
     "output_type": "execute_result"
    }
   ],
   "source": [
    "# Data types?\n",
    "df.dtypes"
   ]
  },
  {
   "cell_type": "code",
   "execution_count": 12,
   "id": "b58c174c",
   "metadata": {},
   "outputs": [],
   "source": [
    "# Adding column that i am going to use later on\n",
    "# Age of the athlete at the time of the event\n",
    "\n",
    "df['athlete_age'] = df['Year of event'] - df['Athlete year of birth']"
   ]
  },
  {
   "cell_type": "code",
   "execution_count": 13,
   "id": "b5e466aa",
   "metadata": {},
   "outputs": [
    {
     "data": {
      "text/html": [
       "<div>\n",
       "<style scoped>\n",
       "    .dataframe tbody tr th:only-of-type {\n",
       "        vertical-align: middle;\n",
       "    }\n",
       "\n",
       "    .dataframe tbody tr th {\n",
       "        vertical-align: top;\n",
       "    }\n",
       "\n",
       "    .dataframe thead th {\n",
       "        text-align: right;\n",
       "    }\n",
       "</style>\n",
       "<table border=\"1\" class=\"dataframe\">\n",
       "  <thead>\n",
       "    <tr style=\"text-align: right;\">\n",
       "      <th></th>\n",
       "      <th>Year of event</th>\n",
       "      <th>Event dates</th>\n",
       "      <th>Event name</th>\n",
       "      <th>Event distance/length</th>\n",
       "      <th>Event number of finishers</th>\n",
       "      <th>Athlete performance</th>\n",
       "      <th>Athlete club</th>\n",
       "      <th>Athlete country</th>\n",
       "      <th>Athlete year of birth</th>\n",
       "      <th>Athlete gender</th>\n",
       "      <th>Athlete age category</th>\n",
       "      <th>Athlete average speed</th>\n",
       "      <th>Athlete ID</th>\n",
       "      <th>athlete_age</th>\n",
       "    </tr>\n",
       "  </thead>\n",
       "  <tbody>\n",
       "    <tr>\n",
       "      <th>1034660</th>\n",
       "      <td>2016</td>\n",
       "      <td>15.10.2016</td>\n",
       "      <td>Hejaz Ultra 50 (KSA)</td>\n",
       "      <td>50km</td>\n",
       "      <td>10</td>\n",
       "      <td>6:35:00 h</td>\n",
       "      <td>33° Rima</td>\n",
       "      <td>FRA</td>\n",
       "      <td>1974.0</td>\n",
       "      <td>M</td>\n",
       "      <td>M40</td>\n",
       "      <td>7.595</td>\n",
       "      <td>84859</td>\n",
       "      <td>42.0</td>\n",
       "    </tr>\n",
       "    <tr>\n",
       "      <th>1034661</th>\n",
       "      <td>2016</td>\n",
       "      <td>15.10.2016</td>\n",
       "      <td>Hejaz Ultra 50 (KSA)</td>\n",
       "      <td>50km</td>\n",
       "      <td>10</td>\n",
       "      <td>6:43:00 h</td>\n",
       "      <td>NaN</td>\n",
       "      <td>FRA</td>\n",
       "      <td>1968.0</td>\n",
       "      <td>F</td>\n",
       "      <td>W45</td>\n",
       "      <td>7.444</td>\n",
       "      <td>235243</td>\n",
       "      <td>48.0</td>\n",
       "    </tr>\n",
       "    <tr>\n",
       "      <th>1034662</th>\n",
       "      <td>2016</td>\n",
       "      <td>15.10.2016</td>\n",
       "      <td>Hejaz Ultra 50 (KSA)</td>\n",
       "      <td>50km</td>\n",
       "      <td>10</td>\n",
       "      <td>6:56:00 h</td>\n",
       "      <td>NaN</td>\n",
       "      <td>SUI</td>\n",
       "      <td>1986.0</td>\n",
       "      <td>M</td>\n",
       "      <td>M23</td>\n",
       "      <td>7.212</td>\n",
       "      <td>494704</td>\n",
       "      <td>30.0</td>\n",
       "    </tr>\n",
       "    <tr>\n",
       "      <th>1034663</th>\n",
       "      <td>2016</td>\n",
       "      <td>15.10.2016</td>\n",
       "      <td>Hejaz Ultra 50 (KSA)</td>\n",
       "      <td>50km</td>\n",
       "      <td>10</td>\n",
       "      <td>7:53:00 h</td>\n",
       "      <td>NaN</td>\n",
       "      <td>FRA</td>\n",
       "      <td>1961.0</td>\n",
       "      <td>M</td>\n",
       "      <td>M55</td>\n",
       "      <td>6.342</td>\n",
       "      <td>355314</td>\n",
       "      <td>55.0</td>\n",
       "    </tr>\n",
       "    <tr>\n",
       "      <th>1034664</th>\n",
       "      <td>2016</td>\n",
       "      <td>15.10.2016</td>\n",
       "      <td>Hejaz Ultra 50 (KSA)</td>\n",
       "      <td>50km</td>\n",
       "      <td>10</td>\n",
       "      <td>8:07:00 h</td>\n",
       "      <td>Jeddah Road Runners</td>\n",
       "      <td>GBR</td>\n",
       "      <td>1962.0</td>\n",
       "      <td>M</td>\n",
       "      <td>M50</td>\n",
       "      <td>6.16</td>\n",
       "      <td>296295</td>\n",
       "      <td>54.0</td>\n",
       "    </tr>\n",
       "  </tbody>\n",
       "</table>\n",
       "</div>"
      ],
      "text/plain": [
       "         Year of event Event dates            Event name  \\\n",
       "1034660           2016  15.10.2016  Hejaz Ultra 50 (KSA)   \n",
       "1034661           2016  15.10.2016  Hejaz Ultra 50 (KSA)   \n",
       "1034662           2016  15.10.2016  Hejaz Ultra 50 (KSA)   \n",
       "1034663           2016  15.10.2016  Hejaz Ultra 50 (KSA)   \n",
       "1034664           2016  15.10.2016  Hejaz Ultra 50 (KSA)   \n",
       "\n",
       "        Event distance/length  Event number of finishers Athlete performance  \\\n",
       "1034660                  50km                         10           6:35:00 h   \n",
       "1034661                  50km                         10           6:43:00 h   \n",
       "1034662                  50km                         10           6:56:00 h   \n",
       "1034663                  50km                         10           7:53:00 h   \n",
       "1034664                  50km                         10           8:07:00 h   \n",
       "\n",
       "                Athlete club Athlete country  Athlete year of birth  \\\n",
       "1034660             33° Rima             FRA                 1974.0   \n",
       "1034661                  NaN             FRA                 1968.0   \n",
       "1034662                  NaN             SUI                 1986.0   \n",
       "1034663                  NaN             FRA                 1961.0   \n",
       "1034664  Jeddah Road Runners             GBR                 1962.0   \n",
       "\n",
       "        Athlete gender Athlete age category Athlete average speed  Athlete ID  \\\n",
       "1034660              M                  M40                 7.595       84859   \n",
       "1034661              F                  W45                 7.444      235243   \n",
       "1034662              M                  M23                 7.212      494704   \n",
       "1034663              M                  M55                 6.342      355314   \n",
       "1034664              M                  M50                  6.16      296295   \n",
       "\n",
       "         athlete_age  \n",
       "1034660         42.0  \n",
       "1034661         48.0  \n",
       "1034662         30.0  \n",
       "1034663         55.0  \n",
       "1034664         54.0  "
      ]
     },
     "execution_count": 13,
     "metadata": {},
     "output_type": "execute_result"
    }
   ],
   "source": [
    "df.head()"
   ]
  },
  {
   "cell_type": "code",
   "execution_count": 14,
   "id": "e5568e6e",
   "metadata": {},
   "outputs": [
    {
     "data": {
      "text/html": [
       "<div>\n",
       "<style scoped>\n",
       "    .dataframe tbody tr th:only-of-type {\n",
       "        vertical-align: middle;\n",
       "    }\n",
       "\n",
       "    .dataframe tbody tr th {\n",
       "        vertical-align: top;\n",
       "    }\n",
       "\n",
       "    .dataframe thead th {\n",
       "        text-align: right;\n",
       "    }\n",
       "</style>\n",
       "<table border=\"1\" class=\"dataframe\">\n",
       "  <thead>\n",
       "    <tr style=\"text-align: right;\">\n",
       "      <th></th>\n",
       "      <th>Year of event</th>\n",
       "      <th>Event number of finishers</th>\n",
       "      <th>Athlete year of birth</th>\n",
       "      <th>Athlete ID</th>\n",
       "      <th>athlete_age</th>\n",
       "    </tr>\n",
       "  </thead>\n",
       "  <tbody>\n",
       "    <tr>\n",
       "      <th>count</th>\n",
       "      <td>216.000000</td>\n",
       "      <td>216.000000</td>\n",
       "      <td>162.000000</td>\n",
       "      <td>216.000000</td>\n",
       "      <td>162.000000</td>\n",
       "    </tr>\n",
       "    <tr>\n",
       "      <th>mean</th>\n",
       "      <td>2020.759259</td>\n",
       "      <td>61.898148</td>\n",
       "      <td>1978.771605</td>\n",
       "      <td>706053.138889</td>\n",
       "      <td>41.580247</td>\n",
       "    </tr>\n",
       "    <tr>\n",
       "      <th>std</th>\n",
       "      <td>1.432970</td>\n",
       "      <td>25.948944</td>\n",
       "      <td>9.942865</td>\n",
       "      <td>305533.251498</td>\n",
       "      <td>9.931272</td>\n",
       "    </tr>\n",
       "    <tr>\n",
       "      <th>min</th>\n",
       "      <td>2016.000000</td>\n",
       "      <td>2.000000</td>\n",
       "      <td>1944.000000</td>\n",
       "      <td>1758.000000</td>\n",
       "      <td>23.000000</td>\n",
       "    </tr>\n",
       "    <tr>\n",
       "      <th>25%</th>\n",
       "      <td>2020.000000</td>\n",
       "      <td>35.000000</td>\n",
       "      <td>1971.000000</td>\n",
       "      <td>544325.000000</td>\n",
       "      <td>33.000000</td>\n",
       "    </tr>\n",
       "    <tr>\n",
       "      <th>50%</th>\n",
       "      <td>2020.000000</td>\n",
       "      <td>66.000000</td>\n",
       "      <td>1980.000000</td>\n",
       "      <td>829088.500000</td>\n",
       "      <td>41.000000</td>\n",
       "    </tr>\n",
       "    <tr>\n",
       "      <th>75%</th>\n",
       "      <td>2022.000000</td>\n",
       "      <td>86.000000</td>\n",
       "      <td>1987.000000</td>\n",
       "      <td>966872.250000</td>\n",
       "      <td>49.000000</td>\n",
       "    </tr>\n",
       "    <tr>\n",
       "      <th>max</th>\n",
       "      <td>2022.000000</td>\n",
       "      <td>86.000000</td>\n",
       "      <td>1997.000000</td>\n",
       "      <td>966968.000000</td>\n",
       "      <td>78.000000</td>\n",
       "    </tr>\n",
       "  </tbody>\n",
       "</table>\n",
       "</div>"
      ],
      "text/plain": [
       "       Year of event  Event number of finishers  Athlete year of birth  \\\n",
       "count     216.000000                 216.000000             162.000000   \n",
       "mean     2020.759259                  61.898148            1978.771605   \n",
       "std         1.432970                  25.948944               9.942865   \n",
       "min      2016.000000                   2.000000            1944.000000   \n",
       "25%      2020.000000                  35.000000            1971.000000   \n",
       "50%      2020.000000                  66.000000            1980.000000   \n",
       "75%      2022.000000                  86.000000            1987.000000   \n",
       "max      2022.000000                  86.000000            1997.000000   \n",
       "\n",
       "          Athlete ID  athlete_age  \n",
       "count     216.000000   162.000000  \n",
       "mean   706053.138889    41.580247  \n",
       "std    305533.251498     9.931272  \n",
       "min      1758.000000    23.000000  \n",
       "25%    544325.000000    33.000000  \n",
       "50%    829088.500000    41.000000  \n",
       "75%    966872.250000    49.000000  \n",
       "max    966968.000000    78.000000  "
      ]
     },
     "execution_count": 14,
     "metadata": {},
     "output_type": "execute_result"
    }
   ],
   "source": [
    "df.describe()"
   ]
  },
  {
   "cell_type": "code",
   "execution_count": 15,
   "id": "20dd5bc8",
   "metadata": {},
   "outputs": [
    {
     "name": "stdout",
     "output_type": "stream",
     "text": [
      "<class 'pandas.core.frame.DataFrame'>\n",
      "Index: 216 entries, 1034660 to 3239289\n",
      "Data columns (total 14 columns):\n",
      " #   Column                     Non-Null Count  Dtype  \n",
      "---  ------                     --------------  -----  \n",
      " 0   Year of event              216 non-null    int64  \n",
      " 1   Event dates                216 non-null    object \n",
      " 2   Event name                 216 non-null    object \n",
      " 3   Event distance/length      216 non-null    object \n",
      " 4   Event number of finishers  216 non-null    int64  \n",
      " 5   Athlete performance        216 non-null    object \n",
      " 6   Athlete club               4 non-null      object \n",
      " 7   Athlete country            216 non-null    object \n",
      " 8   Athlete year of birth      162 non-null    float64\n",
      " 9   Athlete gender             216 non-null    object \n",
      " 10  Athlete age category       162 non-null    object \n",
      " 11  Athlete average speed      216 non-null    object \n",
      " 12  Athlete ID                 216 non-null    int64  \n",
      " 13  athlete_age                162 non-null    float64\n",
      "dtypes: float64(2), int64(3), object(9)\n",
      "memory usage: 25.3+ KB\n"
     ]
    }
   ],
   "source": [
    "df.info()"
   ]
  },
  {
   "cell_type": "code",
   "execution_count": 16,
   "id": "9bf40a25",
   "metadata": {},
   "outputs": [
    {
     "data": {
      "text/plain": [
       "Year of event                  4\n",
       "Event dates                    4\n",
       "Event name                     5\n",
       "Event distance/length          4\n",
       "Event number of finishers      6\n",
       "Athlete performance          210\n",
       "Athlete club                   3\n",
       "Athlete country               40\n",
       "Athlete year of birth         38\n",
       "Athlete gender                 2\n",
       "Athlete age category          15\n",
       "Athlete average speed        202\n",
       "Athlete ID                   201\n",
       "athlete_age                   40\n",
       "dtype: int64"
      ]
     },
     "execution_count": 16,
     "metadata": {},
     "output_type": "execute_result"
    }
   ],
   "source": [
    "# Checking if every thing make sense\n",
    "\n",
    "df.nunique()"
   ]
  },
  {
   "cell_type": "code",
   "execution_count": 17,
   "id": "38b6c695",
   "metadata": {},
   "outputs": [
    {
     "data": {
      "text/plain": [
       "array(['Hejaz Ultra 50 (KSA)', 'EcoTrail AlUla 83 km (KSA)',\n",
       "       'EcoTrail AlUla 45 km (KSA)', 'Last Hejazi Standing (KSA)',\n",
       "       'EcoTrail AlUla 50 km (KSA)'], dtype=object)"
      ]
     },
     "execution_count": 17,
     "metadata": {},
     "output_type": "execute_result"
    }
   ],
   "source": [
    "# What are the marathons that happend in saudi\n",
    "df['Event name'].unique()"
   ]
  },
  {
   "cell_type": "code",
   "execution_count": 18,
   "id": "085663cf",
   "metadata": {},
   "outputs": [
    {
     "data": {
      "text/plain": [
       "array([2016, 2020, 2021, 2022], dtype=int64)"
      ]
     },
     "execution_count": 18,
     "metadata": {},
     "output_type": "execute_result"
    }
   ],
   "source": [
    "# In which years?\n",
    "\n",
    "df['Year of event'].unique()"
   ]
  },
  {
   "cell_type": "markdown",
   "id": "660bfe39",
   "metadata": {},
   "source": [
    "### Taking Only the columns that i need"
   ]
  },
  {
   "cell_type": "code",
   "execution_count": 19,
   "id": "9dda463f",
   "metadata": {},
   "outputs": [
    {
     "data": {
      "text/plain": [
       "Index(['Year of event', 'Event dates', 'Event name', 'Event distance/length',\n",
       "       'Event number of finishers', 'Athlete performance', 'Athlete club',\n",
       "       'Athlete country', 'Athlete year of birth', 'Athlete gender',\n",
       "       'Athlete age category', 'Athlete average speed', 'Athlete ID',\n",
       "       'athlete_age'],\n",
       "      dtype='object')"
      ]
     },
     "execution_count": 19,
     "metadata": {},
     "output_type": "execute_result"
    }
   ],
   "source": [
    "df.columns"
   ]
  },
  {
   "cell_type": "code",
   "execution_count": 20,
   "id": "5b5b42d9",
   "metadata": {},
   "outputs": [],
   "source": [
    "df.drop(['Athlete country','Athlete club', 'Athlete year of birth', 'Athlete age category'], axis=1, inplace=True)"
   ]
  },
  {
   "cell_type": "code",
   "execution_count": 21,
   "id": "f5c2719a",
   "metadata": {},
   "outputs": [
    {
     "data": {
      "text/html": [
       "<div>\n",
       "<style scoped>\n",
       "    .dataframe tbody tr th:only-of-type {\n",
       "        vertical-align: middle;\n",
       "    }\n",
       "\n",
       "    .dataframe tbody tr th {\n",
       "        vertical-align: top;\n",
       "    }\n",
       "\n",
       "    .dataframe thead th {\n",
       "        text-align: right;\n",
       "    }\n",
       "</style>\n",
       "<table border=\"1\" class=\"dataframe\">\n",
       "  <thead>\n",
       "    <tr style=\"text-align: right;\">\n",
       "      <th></th>\n",
       "      <th>Year of event</th>\n",
       "      <th>Event dates</th>\n",
       "      <th>Event name</th>\n",
       "      <th>Event distance/length</th>\n",
       "      <th>Event number of finishers</th>\n",
       "      <th>Athlete performance</th>\n",
       "      <th>Athlete gender</th>\n",
       "      <th>Athlete average speed</th>\n",
       "      <th>Athlete ID</th>\n",
       "      <th>athlete_age</th>\n",
       "    </tr>\n",
       "  </thead>\n",
       "  <tbody>\n",
       "    <tr>\n",
       "      <th>1034660</th>\n",
       "      <td>2016</td>\n",
       "      <td>15.10.2016</td>\n",
       "      <td>Hejaz Ultra 50 (KSA)</td>\n",
       "      <td>50km</td>\n",
       "      <td>10</td>\n",
       "      <td>6:35:00 h</td>\n",
       "      <td>M</td>\n",
       "      <td>7.595</td>\n",
       "      <td>84859</td>\n",
       "      <td>42.0</td>\n",
       "    </tr>\n",
       "    <tr>\n",
       "      <th>1034661</th>\n",
       "      <td>2016</td>\n",
       "      <td>15.10.2016</td>\n",
       "      <td>Hejaz Ultra 50 (KSA)</td>\n",
       "      <td>50km</td>\n",
       "      <td>10</td>\n",
       "      <td>6:43:00 h</td>\n",
       "      <td>F</td>\n",
       "      <td>7.444</td>\n",
       "      <td>235243</td>\n",
       "      <td>48.0</td>\n",
       "    </tr>\n",
       "    <tr>\n",
       "      <th>1034662</th>\n",
       "      <td>2016</td>\n",
       "      <td>15.10.2016</td>\n",
       "      <td>Hejaz Ultra 50 (KSA)</td>\n",
       "      <td>50km</td>\n",
       "      <td>10</td>\n",
       "      <td>6:56:00 h</td>\n",
       "      <td>M</td>\n",
       "      <td>7.212</td>\n",
       "      <td>494704</td>\n",
       "      <td>30.0</td>\n",
       "    </tr>\n",
       "    <tr>\n",
       "      <th>1034663</th>\n",
       "      <td>2016</td>\n",
       "      <td>15.10.2016</td>\n",
       "      <td>Hejaz Ultra 50 (KSA)</td>\n",
       "      <td>50km</td>\n",
       "      <td>10</td>\n",
       "      <td>7:53:00 h</td>\n",
       "      <td>M</td>\n",
       "      <td>6.342</td>\n",
       "      <td>355314</td>\n",
       "      <td>55.0</td>\n",
       "    </tr>\n",
       "    <tr>\n",
       "      <th>1034664</th>\n",
       "      <td>2016</td>\n",
       "      <td>15.10.2016</td>\n",
       "      <td>Hejaz Ultra 50 (KSA)</td>\n",
       "      <td>50km</td>\n",
       "      <td>10</td>\n",
       "      <td>8:07:00 h</td>\n",
       "      <td>M</td>\n",
       "      <td>6.16</td>\n",
       "      <td>296295</td>\n",
       "      <td>54.0</td>\n",
       "    </tr>\n",
       "  </tbody>\n",
       "</table>\n",
       "</div>"
      ],
      "text/plain": [
       "         Year of event Event dates            Event name  \\\n",
       "1034660           2016  15.10.2016  Hejaz Ultra 50 (KSA)   \n",
       "1034661           2016  15.10.2016  Hejaz Ultra 50 (KSA)   \n",
       "1034662           2016  15.10.2016  Hejaz Ultra 50 (KSA)   \n",
       "1034663           2016  15.10.2016  Hejaz Ultra 50 (KSA)   \n",
       "1034664           2016  15.10.2016  Hejaz Ultra 50 (KSA)   \n",
       "\n",
       "        Event distance/length  Event number of finishers Athlete performance  \\\n",
       "1034660                  50km                         10           6:35:00 h   \n",
       "1034661                  50km                         10           6:43:00 h   \n",
       "1034662                  50km                         10           6:56:00 h   \n",
       "1034663                  50km                         10           7:53:00 h   \n",
       "1034664                  50km                         10           8:07:00 h   \n",
       "\n",
       "        Athlete gender Athlete average speed  Athlete ID  athlete_age  \n",
       "1034660              M                 7.595       84859         42.0  \n",
       "1034661              F                 7.444      235243         48.0  \n",
       "1034662              M                 7.212      494704         30.0  \n",
       "1034663              M                 6.342      355314         55.0  \n",
       "1034664              M                  6.16      296295         54.0  "
      ]
     },
     "execution_count": 21,
     "metadata": {},
     "output_type": "execute_result"
    }
   ],
   "source": [
    "df.head()"
   ]
  },
  {
   "cell_type": "markdown",
   "id": "7acf1bb1",
   "metadata": {},
   "source": [
    "### Renaming the columnms to have some consistency"
   ]
  },
  {
   "cell_type": "code",
   "execution_count": 22,
   "id": "a4d4cdad",
   "metadata": {},
   "outputs": [
    {
     "data": {
      "text/plain": [
       "Index(['Year of event', 'Event dates', 'Event name', 'Event distance/length',\n",
       "       'Event number of finishers', 'Athlete performance', 'Athlete gender',\n",
       "       'Athlete average speed', 'Athlete ID', 'athlete_age'],\n",
       "      dtype='object')"
      ]
     },
     "execution_count": 22,
     "metadata": {},
     "output_type": "execute_result"
    }
   ],
   "source": [
    "df.columns"
   ]
  },
  {
   "cell_type": "code",
   "execution_count": 23,
   "id": "a2511c35",
   "metadata": {},
   "outputs": [],
   "source": [
    "df = df.rename(columns={\n",
    "    'Year of event': 'year',\n",
    "    'Event name': 'marathon_name',\n",
    "    'Event dates': 'marathon_date',\n",
    "    'Event distance/length': 'marathon_length',\n",
    "    'Event number of finishers': 'marathon_number_of_finishers',\n",
    "    'Athlete performance': 'athlete_performance',\n",
    "    'Athlete gender': 'athlete_gender',\n",
    "    'Athlete average speed': 'athlete_average_speed',\n",
    "    'Athlete ID': 'athlete_id',\n",
    "})"
   ]
  },
  {
   "cell_type": "code",
   "execution_count": 24,
   "id": "0e280be7",
   "metadata": {},
   "outputs": [
    {
     "data": {
      "text/html": [
       "<div>\n",
       "<style scoped>\n",
       "    .dataframe tbody tr th:only-of-type {\n",
       "        vertical-align: middle;\n",
       "    }\n",
       "\n",
       "    .dataframe tbody tr th {\n",
       "        vertical-align: top;\n",
       "    }\n",
       "\n",
       "    .dataframe thead th {\n",
       "        text-align: right;\n",
       "    }\n",
       "</style>\n",
       "<table border=\"1\" class=\"dataframe\">\n",
       "  <thead>\n",
       "    <tr style=\"text-align: right;\">\n",
       "      <th></th>\n",
       "      <th>year</th>\n",
       "      <th>marathon_date</th>\n",
       "      <th>marathon_name</th>\n",
       "      <th>marathon_length</th>\n",
       "      <th>marathon_number_of_finishers</th>\n",
       "      <th>athlete_performance</th>\n",
       "      <th>athlete_gender</th>\n",
       "      <th>athlete_average_speed</th>\n",
       "      <th>athlete_id</th>\n",
       "      <th>athlete_age</th>\n",
       "    </tr>\n",
       "  </thead>\n",
       "  <tbody>\n",
       "    <tr>\n",
       "      <th>1034660</th>\n",
       "      <td>2016</td>\n",
       "      <td>15.10.2016</td>\n",
       "      <td>Hejaz Ultra 50 (KSA)</td>\n",
       "      <td>50km</td>\n",
       "      <td>10</td>\n",
       "      <td>6:35:00 h</td>\n",
       "      <td>M</td>\n",
       "      <td>7.595</td>\n",
       "      <td>84859</td>\n",
       "      <td>42.0</td>\n",
       "    </tr>\n",
       "    <tr>\n",
       "      <th>1034661</th>\n",
       "      <td>2016</td>\n",
       "      <td>15.10.2016</td>\n",
       "      <td>Hejaz Ultra 50 (KSA)</td>\n",
       "      <td>50km</td>\n",
       "      <td>10</td>\n",
       "      <td>6:43:00 h</td>\n",
       "      <td>F</td>\n",
       "      <td>7.444</td>\n",
       "      <td>235243</td>\n",
       "      <td>48.0</td>\n",
       "    </tr>\n",
       "    <tr>\n",
       "      <th>1034662</th>\n",
       "      <td>2016</td>\n",
       "      <td>15.10.2016</td>\n",
       "      <td>Hejaz Ultra 50 (KSA)</td>\n",
       "      <td>50km</td>\n",
       "      <td>10</td>\n",
       "      <td>6:56:00 h</td>\n",
       "      <td>M</td>\n",
       "      <td>7.212</td>\n",
       "      <td>494704</td>\n",
       "      <td>30.0</td>\n",
       "    </tr>\n",
       "    <tr>\n",
       "      <th>1034663</th>\n",
       "      <td>2016</td>\n",
       "      <td>15.10.2016</td>\n",
       "      <td>Hejaz Ultra 50 (KSA)</td>\n",
       "      <td>50km</td>\n",
       "      <td>10</td>\n",
       "      <td>7:53:00 h</td>\n",
       "      <td>M</td>\n",
       "      <td>6.342</td>\n",
       "      <td>355314</td>\n",
       "      <td>55.0</td>\n",
       "    </tr>\n",
       "    <tr>\n",
       "      <th>1034664</th>\n",
       "      <td>2016</td>\n",
       "      <td>15.10.2016</td>\n",
       "      <td>Hejaz Ultra 50 (KSA)</td>\n",
       "      <td>50km</td>\n",
       "      <td>10</td>\n",
       "      <td>8:07:00 h</td>\n",
       "      <td>M</td>\n",
       "      <td>6.16</td>\n",
       "      <td>296295</td>\n",
       "      <td>54.0</td>\n",
       "    </tr>\n",
       "  </tbody>\n",
       "</table>\n",
       "</div>"
      ],
      "text/plain": [
       "         year marathon_date         marathon_name marathon_length  \\\n",
       "1034660  2016    15.10.2016  Hejaz Ultra 50 (KSA)            50km   \n",
       "1034661  2016    15.10.2016  Hejaz Ultra 50 (KSA)            50km   \n",
       "1034662  2016    15.10.2016  Hejaz Ultra 50 (KSA)            50km   \n",
       "1034663  2016    15.10.2016  Hejaz Ultra 50 (KSA)            50km   \n",
       "1034664  2016    15.10.2016  Hejaz Ultra 50 (KSA)            50km   \n",
       "\n",
       "         marathon_number_of_finishers athlete_performance athlete_gender  \\\n",
       "1034660                            10           6:35:00 h              M   \n",
       "1034661                            10           6:43:00 h              F   \n",
       "1034662                            10           6:56:00 h              M   \n",
       "1034663                            10           7:53:00 h              M   \n",
       "1034664                            10           8:07:00 h              M   \n",
       "\n",
       "        athlete_average_speed  athlete_id  athlete_age  \n",
       "1034660                 7.595       84859         42.0  \n",
       "1034661                 7.444      235243         48.0  \n",
       "1034662                 7.212      494704         30.0  \n",
       "1034663                 6.342      355314         55.0  \n",
       "1034664                  6.16      296295         54.0  "
      ]
     },
     "execution_count": 24,
     "metadata": {},
     "output_type": "execute_result"
    }
   ],
   "source": [
    "df.head()"
   ]
  },
  {
   "cell_type": "markdown",
   "id": "0bce3489",
   "metadata": {},
   "source": [
    "### Dropping nulls "
   ]
  },
  {
   "cell_type": "code",
   "execution_count": 25,
   "id": "3110f5dd",
   "metadata": {},
   "outputs": [
    {
     "data": {
      "text/plain": [
       "year                             0\n",
       "marathon_date                    0\n",
       "marathon_name                    0\n",
       "marathon_length                  0\n",
       "marathon_number_of_finishers     0\n",
       "athlete_performance              0\n",
       "athlete_gender                   0\n",
       "athlete_average_speed            0\n",
       "athlete_id                       0\n",
       "athlete_age                     54\n",
       "dtype: int64"
      ]
     },
     "execution_count": 25,
     "metadata": {},
     "output_type": "execute_result"
    }
   ],
   "source": [
    "df.isnull().sum()"
   ]
  },
  {
   "cell_type": "code",
   "execution_count": 26,
   "id": "9974e54c",
   "metadata": {},
   "outputs": [],
   "source": [
    "df.dropna(inplace=True)"
   ]
  },
  {
   "cell_type": "code",
   "execution_count": 27,
   "id": "8aac4d1d",
   "metadata": {},
   "outputs": [
    {
     "data": {
      "text/plain": [
       "year                              int64\n",
       "marathon_date                    object\n",
       "marathon_name                    object\n",
       "marathon_length                  object\n",
       "marathon_number_of_finishers      int64\n",
       "athlete_performance              object\n",
       "athlete_gender                   object\n",
       "athlete_average_speed            object\n",
       "athlete_id                        int64\n",
       "athlete_age                     float64\n",
       "dtype: object"
      ]
     },
     "execution_count": 27,
     "metadata": {},
     "output_type": "execute_result"
    }
   ],
   "source": [
    "df.dtypes"
   ]
  },
  {
   "cell_type": "code",
   "execution_count": 28,
   "id": "9eeab508",
   "metadata": {},
   "outputs": [
    {
     "name": "stderr",
     "output_type": "stream",
     "text": [
      "C:\\Users\\k1y0sh1\\AppData\\Local\\Temp\\ipykernel_337768\\1533643572.py:1: UserWarning: Parsing dates in %d.%m.%Y format when dayfirst=False (the default) was specified. Pass `dayfirst=True` or specify a format to silence this warning.\n",
      "  df['marathon_date'] = pd.to_datetime(df['marathon_date']).dt.date\n"
     ]
    }
   ],
   "source": [
    "df['marathon_date'] = pd.to_datetime(df['marathon_date']).dt.date"
   ]
  },
  {
   "cell_type": "code",
   "execution_count": 29,
   "id": "ac4ebe78",
   "metadata": {},
   "outputs": [
    {
     "data": {
      "text/plain": [
       "array([datetime.date(2016, 10, 15), datetime.date(2020, 2, 8),\n",
       "       datetime.date(2021, 11, 12), datetime.date(2022, 3, 19)],\n",
       "      dtype=object)"
      ]
     },
     "execution_count": 29,
     "metadata": {},
     "output_type": "execute_result"
    }
   ],
   "source": [
    "df['marathon_date'].unique()"
   ]
  },
  {
   "cell_type": "code",
   "execution_count": 30,
   "id": "d60f497a",
   "metadata": {},
   "outputs": [
    {
     "data": {
      "text/plain": [
       "year                              int64\n",
       "marathon_date                    object\n",
       "marathon_name                    object\n",
       "marathon_length                  object\n",
       "marathon_number_of_finishers      int64\n",
       "athlete_performance              object\n",
       "athlete_gender                   object\n",
       "athlete_average_speed            object\n",
       "athlete_id                        int64\n",
       "athlete_age                     float64\n",
       "dtype: object"
      ]
     },
     "execution_count": 30,
     "metadata": {},
     "output_type": "execute_result"
    }
   ],
   "source": [
    "df.dtypes"
   ]
  },
  {
   "cell_type": "markdown",
   "id": "d8076903",
   "metadata": {},
   "source": [
    "####  Removing the 'h' from the athlete performance"
   ]
  },
  {
   "cell_type": "code",
   "execution_count": 31,
   "id": "ce849e53",
   "metadata": {},
   "outputs": [],
   "source": [
    "df['athlete_performance'] = df['athlete_performance'].str.split(' ').str.get(0)"
   ]
  },
  {
   "cell_type": "code",
   "execution_count": 32,
   "id": "c9c8cc7d",
   "metadata": {},
   "outputs": [],
   "source": [
    "df['athlete_age'] = df['athlete_age'].astype(int)"
   ]
  },
  {
   "cell_type": "code",
   "execution_count": 33,
   "id": "47bfabca",
   "metadata": {},
   "outputs": [
    {
     "data": {
      "text/plain": [
       "1034660          Hejaz Ultra 50 (KSA)\n",
       "1034661          Hejaz Ultra 50 (KSA)\n",
       "1034662          Hejaz Ultra 50 (KSA)\n",
       "1034663          Hejaz Ultra 50 (KSA)\n",
       "1034664          Hejaz Ultra 50 (KSA)\n",
       "                      ...            \n",
       "3239282    EcoTrail AlUla 83 km (KSA)\n",
       "3239284    EcoTrail AlUla 83 km (KSA)\n",
       "3239285    EcoTrail AlUla 83 km (KSA)\n",
       "3239287    EcoTrail AlUla 83 km (KSA)\n",
       "3239288    EcoTrail AlUla 83 km (KSA)\n",
       "Name: marathon_name, Length: 162, dtype: object"
      ]
     },
     "execution_count": 33,
     "metadata": {},
     "output_type": "execute_result"
    }
   ],
   "source": [
    "df['marathon_name']"
   ]
  },
  {
   "cell_type": "markdown",
   "id": "88c2f689",
   "metadata": {},
   "source": [
    "### Removing (KSA)\n",
    "##### all of them from the same country"
   ]
  },
  {
   "cell_type": "code",
   "execution_count": 34,
   "id": "76299404",
   "metadata": {},
   "outputs": [],
   "source": [
    "df['marathon_name'] = df['marathon_name'].str.split('\\s*\\(', expand=True)[0]"
   ]
  },
  {
   "cell_type": "code",
   "execution_count": 35,
   "id": "c095a35c",
   "metadata": {},
   "outputs": [],
   "source": [
    "df['athlete_average_speed'] = df['athlete_average_speed'].astype(float)"
   ]
  },
  {
   "cell_type": "code",
   "execution_count": 36,
   "id": "3b4d4c43",
   "metadata": {},
   "outputs": [
    {
     "data": {
      "text/html": [
       "<div>\n",
       "<style scoped>\n",
       "    .dataframe tbody tr th:only-of-type {\n",
       "        vertical-align: middle;\n",
       "    }\n",
       "\n",
       "    .dataframe tbody tr th {\n",
       "        vertical-align: top;\n",
       "    }\n",
       "\n",
       "    .dataframe thead th {\n",
       "        text-align: right;\n",
       "    }\n",
       "</style>\n",
       "<table border=\"1\" class=\"dataframe\">\n",
       "  <thead>\n",
       "    <tr style=\"text-align: right;\">\n",
       "      <th></th>\n",
       "      <th>year</th>\n",
       "      <th>marathon_date</th>\n",
       "      <th>marathon_name</th>\n",
       "      <th>marathon_length</th>\n",
       "      <th>marathon_number_of_finishers</th>\n",
       "      <th>athlete_performance</th>\n",
       "      <th>athlete_gender</th>\n",
       "      <th>athlete_average_speed</th>\n",
       "      <th>athlete_id</th>\n",
       "      <th>athlete_age</th>\n",
       "    </tr>\n",
       "  </thead>\n",
       "  <tbody>\n",
       "    <tr>\n",
       "      <th>1034660</th>\n",
       "      <td>2016</td>\n",
       "      <td>2016-10-15</td>\n",
       "      <td>Hejaz Ultra 50</td>\n",
       "      <td>50km</td>\n",
       "      <td>10</td>\n",
       "      <td>6:35:00</td>\n",
       "      <td>M</td>\n",
       "      <td>7.595</td>\n",
       "      <td>84859</td>\n",
       "      <td>42</td>\n",
       "    </tr>\n",
       "    <tr>\n",
       "      <th>1034661</th>\n",
       "      <td>2016</td>\n",
       "      <td>2016-10-15</td>\n",
       "      <td>Hejaz Ultra 50</td>\n",
       "      <td>50km</td>\n",
       "      <td>10</td>\n",
       "      <td>6:43:00</td>\n",
       "      <td>F</td>\n",
       "      <td>7.444</td>\n",
       "      <td>235243</td>\n",
       "      <td>48</td>\n",
       "    </tr>\n",
       "    <tr>\n",
       "      <th>1034662</th>\n",
       "      <td>2016</td>\n",
       "      <td>2016-10-15</td>\n",
       "      <td>Hejaz Ultra 50</td>\n",
       "      <td>50km</td>\n",
       "      <td>10</td>\n",
       "      <td>6:56:00</td>\n",
       "      <td>M</td>\n",
       "      <td>7.212</td>\n",
       "      <td>494704</td>\n",
       "      <td>30</td>\n",
       "    </tr>\n",
       "    <tr>\n",
       "      <th>1034663</th>\n",
       "      <td>2016</td>\n",
       "      <td>2016-10-15</td>\n",
       "      <td>Hejaz Ultra 50</td>\n",
       "      <td>50km</td>\n",
       "      <td>10</td>\n",
       "      <td>7:53:00</td>\n",
       "      <td>M</td>\n",
       "      <td>6.342</td>\n",
       "      <td>355314</td>\n",
       "      <td>55</td>\n",
       "    </tr>\n",
       "    <tr>\n",
       "      <th>1034664</th>\n",
       "      <td>2016</td>\n",
       "      <td>2016-10-15</td>\n",
       "      <td>Hejaz Ultra 50</td>\n",
       "      <td>50km</td>\n",
       "      <td>10</td>\n",
       "      <td>8:07:00</td>\n",
       "      <td>M</td>\n",
       "      <td>6.160</td>\n",
       "      <td>296295</td>\n",
       "      <td>54</td>\n",
       "    </tr>\n",
       "    <tr>\n",
       "      <th>1034665</th>\n",
       "      <td>2016</td>\n",
       "      <td>2016-10-15</td>\n",
       "      <td>Hejaz Ultra 50</td>\n",
       "      <td>50km</td>\n",
       "      <td>10</td>\n",
       "      <td>8:27:00</td>\n",
       "      <td>M</td>\n",
       "      <td>5.917</td>\n",
       "      <td>494705</td>\n",
       "      <td>32</td>\n",
       "    </tr>\n",
       "    <tr>\n",
       "      <th>1034666</th>\n",
       "      <td>2016</td>\n",
       "      <td>2016-10-15</td>\n",
       "      <td>Hejaz Ultra 50</td>\n",
       "      <td>50km</td>\n",
       "      <td>10</td>\n",
       "      <td>8:54:00</td>\n",
       "      <td>M</td>\n",
       "      <td>5.618</td>\n",
       "      <td>494706</td>\n",
       "      <td>44</td>\n",
       "    </tr>\n",
       "    <tr>\n",
       "      <th>1034667</th>\n",
       "      <td>2016</td>\n",
       "      <td>2016-10-15</td>\n",
       "      <td>Hejaz Ultra 50</td>\n",
       "      <td>50km</td>\n",
       "      <td>10</td>\n",
       "      <td>9:14:00</td>\n",
       "      <td>M</td>\n",
       "      <td>5.415</td>\n",
       "      <td>494707</td>\n",
       "      <td>37</td>\n",
       "    </tr>\n",
       "    <tr>\n",
       "      <th>1034668</th>\n",
       "      <td>2016</td>\n",
       "      <td>2016-10-15</td>\n",
       "      <td>Hejaz Ultra 50</td>\n",
       "      <td>50km</td>\n",
       "      <td>10</td>\n",
       "      <td>9:41:00</td>\n",
       "      <td>F</td>\n",
       "      <td>5.164</td>\n",
       "      <td>156311</td>\n",
       "      <td>46</td>\n",
       "    </tr>\n",
       "    <tr>\n",
       "      <th>1034669</th>\n",
       "      <td>2016</td>\n",
       "      <td>2016-10-15</td>\n",
       "      <td>Hejaz Ultra 50</td>\n",
       "      <td>50km</td>\n",
       "      <td>10</td>\n",
       "      <td>9:41:00</td>\n",
       "      <td>M</td>\n",
       "      <td>5.164</td>\n",
       "      <td>426442</td>\n",
       "      <td>43</td>\n",
       "    </tr>\n",
       "  </tbody>\n",
       "</table>\n",
       "</div>"
      ],
      "text/plain": [
       "         year marathon_date   marathon_name marathon_length  \\\n",
       "1034660  2016    2016-10-15  Hejaz Ultra 50            50km   \n",
       "1034661  2016    2016-10-15  Hejaz Ultra 50            50km   \n",
       "1034662  2016    2016-10-15  Hejaz Ultra 50            50km   \n",
       "1034663  2016    2016-10-15  Hejaz Ultra 50            50km   \n",
       "1034664  2016    2016-10-15  Hejaz Ultra 50            50km   \n",
       "1034665  2016    2016-10-15  Hejaz Ultra 50            50km   \n",
       "1034666  2016    2016-10-15  Hejaz Ultra 50            50km   \n",
       "1034667  2016    2016-10-15  Hejaz Ultra 50            50km   \n",
       "1034668  2016    2016-10-15  Hejaz Ultra 50            50km   \n",
       "1034669  2016    2016-10-15  Hejaz Ultra 50            50km   \n",
       "\n",
       "         marathon_number_of_finishers athlete_performance athlete_gender  \\\n",
       "1034660                            10             6:35:00              M   \n",
       "1034661                            10             6:43:00              F   \n",
       "1034662                            10             6:56:00              M   \n",
       "1034663                            10             7:53:00              M   \n",
       "1034664                            10             8:07:00              M   \n",
       "1034665                            10             8:27:00              M   \n",
       "1034666                            10             8:54:00              M   \n",
       "1034667                            10             9:14:00              M   \n",
       "1034668                            10             9:41:00              F   \n",
       "1034669                            10             9:41:00              M   \n",
       "\n",
       "         athlete_average_speed  athlete_id  athlete_age  \n",
       "1034660                  7.595       84859           42  \n",
       "1034661                  7.444      235243           48  \n",
       "1034662                  7.212      494704           30  \n",
       "1034663                  6.342      355314           55  \n",
       "1034664                  6.160      296295           54  \n",
       "1034665                  5.917      494705           32  \n",
       "1034666                  5.618      494706           44  \n",
       "1034667                  5.415      494707           37  \n",
       "1034668                  5.164      156311           46  \n",
       "1034669                  5.164      426442           43  "
      ]
     },
     "execution_count": 36,
     "metadata": {},
     "output_type": "execute_result"
    }
   ],
   "source": [
    "df.head(10)"
   ]
  },
  {
   "cell_type": "code",
   "execution_count": 37,
   "id": "749b2520",
   "metadata": {},
   "outputs": [],
   "source": [
    "# reordering the columns\n",
    "df = df[['year','marathon_date', 'marathon_name', 'marathon_length', 'marathon_number_of_finishers', 'athlete_id', 'athlete_gender',\n",
    "       'athlete_age', 'athlete_performance', 'athlete_average_speed']]"
   ]
  },
  {
   "cell_type": "code",
   "execution_count": 38,
   "id": "4106719c",
   "metadata": {},
   "outputs": [
    {
     "data": {
      "text/html": [
       "<div>\n",
       "<style scoped>\n",
       "    .dataframe tbody tr th:only-of-type {\n",
       "        vertical-align: middle;\n",
       "    }\n",
       "\n",
       "    .dataframe tbody tr th {\n",
       "        vertical-align: top;\n",
       "    }\n",
       "\n",
       "    .dataframe thead th {\n",
       "        text-align: right;\n",
       "    }\n",
       "</style>\n",
       "<table border=\"1\" class=\"dataframe\">\n",
       "  <thead>\n",
       "    <tr style=\"text-align: right;\">\n",
       "      <th></th>\n",
       "      <th>year</th>\n",
       "      <th>marathon_date</th>\n",
       "      <th>marathon_name</th>\n",
       "      <th>marathon_length</th>\n",
       "      <th>marathon_number_of_finishers</th>\n",
       "      <th>athlete_id</th>\n",
       "      <th>athlete_gender</th>\n",
       "      <th>athlete_age</th>\n",
       "      <th>athlete_performance</th>\n",
       "      <th>athlete_average_speed</th>\n",
       "    </tr>\n",
       "  </thead>\n",
       "  <tbody>\n",
       "    <tr>\n",
       "      <th>1034660</th>\n",
       "      <td>2016</td>\n",
       "      <td>2016-10-15</td>\n",
       "      <td>Hejaz Ultra 50</td>\n",
       "      <td>50km</td>\n",
       "      <td>10</td>\n",
       "      <td>84859</td>\n",
       "      <td>M</td>\n",
       "      <td>42</td>\n",
       "      <td>6:35:00</td>\n",
       "      <td>7.595</td>\n",
       "    </tr>\n",
       "    <tr>\n",
       "      <th>1034661</th>\n",
       "      <td>2016</td>\n",
       "      <td>2016-10-15</td>\n",
       "      <td>Hejaz Ultra 50</td>\n",
       "      <td>50km</td>\n",
       "      <td>10</td>\n",
       "      <td>235243</td>\n",
       "      <td>F</td>\n",
       "      <td>48</td>\n",
       "      <td>6:43:00</td>\n",
       "      <td>7.444</td>\n",
       "    </tr>\n",
       "    <tr>\n",
       "      <th>1034662</th>\n",
       "      <td>2016</td>\n",
       "      <td>2016-10-15</td>\n",
       "      <td>Hejaz Ultra 50</td>\n",
       "      <td>50km</td>\n",
       "      <td>10</td>\n",
       "      <td>494704</td>\n",
       "      <td>M</td>\n",
       "      <td>30</td>\n",
       "      <td>6:56:00</td>\n",
       "      <td>7.212</td>\n",
       "    </tr>\n",
       "    <tr>\n",
       "      <th>1034663</th>\n",
       "      <td>2016</td>\n",
       "      <td>2016-10-15</td>\n",
       "      <td>Hejaz Ultra 50</td>\n",
       "      <td>50km</td>\n",
       "      <td>10</td>\n",
       "      <td>355314</td>\n",
       "      <td>M</td>\n",
       "      <td>55</td>\n",
       "      <td>7:53:00</td>\n",
       "      <td>6.342</td>\n",
       "    </tr>\n",
       "    <tr>\n",
       "      <th>1034664</th>\n",
       "      <td>2016</td>\n",
       "      <td>2016-10-15</td>\n",
       "      <td>Hejaz Ultra 50</td>\n",
       "      <td>50km</td>\n",
       "      <td>10</td>\n",
       "      <td>296295</td>\n",
       "      <td>M</td>\n",
       "      <td>54</td>\n",
       "      <td>8:07:00</td>\n",
       "      <td>6.160</td>\n",
       "    </tr>\n",
       "  </tbody>\n",
       "</table>\n",
       "</div>"
      ],
      "text/plain": [
       "         year marathon_date   marathon_name marathon_length  \\\n",
       "1034660  2016    2016-10-15  Hejaz Ultra 50            50km   \n",
       "1034661  2016    2016-10-15  Hejaz Ultra 50            50km   \n",
       "1034662  2016    2016-10-15  Hejaz Ultra 50            50km   \n",
       "1034663  2016    2016-10-15  Hejaz Ultra 50            50km   \n",
       "1034664  2016    2016-10-15  Hejaz Ultra 50            50km   \n",
       "\n",
       "         marathon_number_of_finishers  athlete_id athlete_gender  athlete_age  \\\n",
       "1034660                            10       84859              M           42   \n",
       "1034661                            10      235243              F           48   \n",
       "1034662                            10      494704              M           30   \n",
       "1034663                            10      355314              M           55   \n",
       "1034664                            10      296295              M           54   \n",
       "\n",
       "        athlete_performance  athlete_average_speed  \n",
       "1034660             6:35:00                  7.595  \n",
       "1034661             6:43:00                  7.444  \n",
       "1034662             6:56:00                  7.212  \n",
       "1034663             7:53:00                  6.342  \n",
       "1034664             8:07:00                  6.160  "
      ]
     },
     "execution_count": 38,
     "metadata": {},
     "output_type": "execute_result"
    }
   ],
   "source": [
    "df.head()"
   ]
  },
  {
   "cell_type": "code",
   "execution_count": 39,
   "id": "31fdfdcc",
   "metadata": {},
   "outputs": [
    {
     "data": {
      "text/html": [
       "<div>\n",
       "<style scoped>\n",
       "    .dataframe tbody tr th:only-of-type {\n",
       "        vertical-align: middle;\n",
       "    }\n",
       "\n",
       "    .dataframe tbody tr th {\n",
       "        vertical-align: top;\n",
       "    }\n",
       "\n",
       "    .dataframe thead th {\n",
       "        text-align: right;\n",
       "    }\n",
       "</style>\n",
       "<table border=\"1\" class=\"dataframe\">\n",
       "  <thead>\n",
       "    <tr style=\"text-align: right;\">\n",
       "      <th></th>\n",
       "      <th>year</th>\n",
       "      <th>marathon_number_of_finishers</th>\n",
       "      <th>athlete_id</th>\n",
       "      <th>athlete_age</th>\n",
       "      <th>athlete_average_speed</th>\n",
       "    </tr>\n",
       "  </thead>\n",
       "  <tbody>\n",
       "    <tr>\n",
       "      <th>count</th>\n",
       "      <td>162.000000</td>\n",
       "      <td>162.000000</td>\n",
       "      <td>162.00000</td>\n",
       "      <td>162.000000</td>\n",
       "      <td>162.000000</td>\n",
       "    </tr>\n",
       "    <tr>\n",
       "      <th>mean</th>\n",
       "      <td>2020.351852</td>\n",
       "      <td>62.265432</td>\n",
       "      <td>629731.62963</td>\n",
       "      <td>41.580247</td>\n",
       "      <td>7.834617</td>\n",
       "    </tr>\n",
       "    <tr>\n",
       "      <th>std</th>\n",
       "      <td>1.438047</td>\n",
       "      <td>28.991494</td>\n",
       "      <td>307046.32090</td>\n",
       "      <td>9.931272</td>\n",
       "      <td>1.469942</td>\n",
       "    </tr>\n",
       "    <tr>\n",
       "      <th>min</th>\n",
       "      <td>2016.000000</td>\n",
       "      <td>2.000000</td>\n",
       "      <td>1777.00000</td>\n",
       "      <td>23.000000</td>\n",
       "      <td>5.164000</td>\n",
       "    </tr>\n",
       "    <tr>\n",
       "      <th>25%</th>\n",
       "      <td>2020.000000</td>\n",
       "      <td>35.000000</td>\n",
       "      <td>385127.75000</td>\n",
       "      <td>33.000000</td>\n",
       "      <td>6.832500</td>\n",
       "    </tr>\n",
       "    <tr>\n",
       "      <th>50%</th>\n",
       "      <td>2020.000000</td>\n",
       "      <td>86.000000</td>\n",
       "      <td>829068.50000</td>\n",
       "      <td>41.000000</td>\n",
       "      <td>7.535000</td>\n",
       "    </tr>\n",
       "    <tr>\n",
       "      <th>75%</th>\n",
       "      <td>2022.000000</td>\n",
       "      <td>86.000000</td>\n",
       "      <td>829103.75000</td>\n",
       "      <td>49.000000</td>\n",
       "      <td>8.545000</td>\n",
       "    </tr>\n",
       "    <tr>\n",
       "      <th>max</th>\n",
       "      <td>2022.000000</td>\n",
       "      <td>86.000000</td>\n",
       "      <td>966965.00000</td>\n",
       "      <td>78.000000</td>\n",
       "      <td>14.709000</td>\n",
       "    </tr>\n",
       "  </tbody>\n",
       "</table>\n",
       "</div>"
      ],
      "text/plain": [
       "              year  marathon_number_of_finishers    athlete_id  athlete_age  \\\n",
       "count   162.000000                    162.000000     162.00000   162.000000   \n",
       "mean   2020.351852                     62.265432  629731.62963    41.580247   \n",
       "std       1.438047                     28.991494  307046.32090     9.931272   \n",
       "min    2016.000000                      2.000000    1777.00000    23.000000   \n",
       "25%    2020.000000                     35.000000  385127.75000    33.000000   \n",
       "50%    2020.000000                     86.000000  829068.50000    41.000000   \n",
       "75%    2022.000000                     86.000000  829103.75000    49.000000   \n",
       "max    2022.000000                     86.000000  966965.00000    78.000000   \n",
       "\n",
       "       athlete_average_speed  \n",
       "count             162.000000  \n",
       "mean                7.834617  \n",
       "std                 1.469942  \n",
       "min                 5.164000  \n",
       "25%                 6.832500  \n",
       "50%                 7.535000  \n",
       "75%                 8.545000  \n",
       "max                14.709000  "
      ]
     },
     "execution_count": 39,
     "metadata": {},
     "output_type": "execute_result"
    }
   ],
   "source": [
    "df.describe()"
   ]
  },
  {
   "cell_type": "code",
   "execution_count": 40,
   "id": "40d1c5f3",
   "metadata": {},
   "outputs": [
    {
     "data": {
      "text/plain": [
       "<Axes: xlabel='marathon_length', ylabel='Count'>"
      ]
     },
     "execution_count": 40,
     "metadata": {},
     "output_type": "execute_result"
    },
    {
     "data": {
      "image/png": "[encoded data removed]",
      "text/plain": [
       "<Figure size 640x480 with 1 Axes>"
      ]
     },
     "metadata": {},
     "output_type": "display_data"
    }
   ],
   "source": [
    "sns.histplot(df['marathon_length'])"
   ]
  },
  {
   "cell_type": "code",
   "execution_count": 41,
   "id": "b6ff68a1",
   "metadata": {},
   "outputs": [],
   "source": [
    "### Maybe the 8h by accident so lets remove it"
   ]
  },
  {
   "cell_type": "code",
   "execution_count": 42,
   "id": "b7a3cc0e",
   "metadata": {},
   "outputs": [],
   "source": [
    "df.drop(df[df['marathon_length'] == '8h'].index, inplace=True)"
   ]
  },
  {
   "cell_type": "code",
   "execution_count": 43,
   "id": "63740fd3",
   "metadata": {},
   "outputs": [
    {
     "data": {
      "text/plain": [
       "<Axes: xlabel='marathon_length', ylabel='Count'>"
      ]
     },
     "execution_count": 43,
     "metadata": {},
     "output_type": "execute_result"
    },
    {
     "data": {
      "image/png": "[encoded data removed]",
      "text/plain": [
       "<Figure size 640x480 with 1 Axes>"
      ]
     },
     "metadata": {},
     "output_type": "display_data"
    }
   ],
   "source": [
    "# What is the Marathon length that the Vast Majority Competed in?\n",
    "sns.histplot(df['marathon_length'])"
   ]
  },
  {
   "cell_type": "code",
   "execution_count": 44,
   "id": "ab7e86a8",
   "metadata": {},
   "outputs": [
    {
     "data": {
      "text/plain": [
       "marathon_length  athlete_gender\n",
       "45km             F                 7.373389\n",
       "                 M                 8.171029\n",
       "50km             F                 7.830500\n",
       "                 M                 7.414182\n",
       "83km             F                 7.918143\n",
       "                 M                 7.701947\n",
       "Name: athlete_average_speed, dtype: float64"
      ]
     },
     "execution_count": 44,
     "metadata": {},
     "output_type": "execute_result"
    }
   ],
   "source": [
    "# Difference in speed for each marathon length male to female? \n",
    "df.groupby(['marathon_length', 'athlete_gender'])['athlete_average_speed'].mean()"
   ]
  },
  {
   "cell_type": "markdown",
   "id": "232d050e",
   "metadata": {},
   "source": [
    "### Wow Females have higher average speeed Than Males when it comes to longer Marathons\n",
    "##### I guess having a stronger physique is not enough, you need a good strategy, mental toughness and maybe body weight also plays in the equation."
   ]
  },
  {
   "cell_type": "code",
   "execution_count": 45,
   "id": "f2e826ab",
   "metadata": {},
   "outputs": [
    {
     "data": {
      "image/png": "[encoded data removed]",
      "text/plain": [
       "<Figure size 1000x600 with 1 Axes>"
      ]
     },
     "metadata": {},
     "output_type": "display_data"
    }
   ],
   "source": [
    "plt.figure(figsize=(10, 6))\n",
    "sns.barplot(x='marathon_length', y='athlete_average_speed', hue='athlete_gender', data=df, order=['45km', '50km', '83km'])\n",
    "plt.xlabel('Marathon Length')\n",
    "plt.ylabel('Average Speed')\n",
    "plt.title('Average Speed Between Male and Female for Each Marathon Length')\n",
    "plt.show()\n"
   ]
  },
  {
   "cell_type": "code",
   "execution_count": 46,
   "id": "021f1412",
   "metadata": {},
   "outputs": [
    {
     "data": {
      "text/html": [
       "<div>\n",
       "<style scoped>\n",
       "    .dataframe tbody tr th:only-of-type {\n",
       "        vertical-align: middle;\n",
       "    }\n",
       "\n",
       "    .dataframe tbody tr th {\n",
       "        vertical-align: top;\n",
       "    }\n",
       "\n",
       "    .dataframe thead th {\n",
       "        text-align: right;\n",
       "    }\n",
       "</style>\n",
       "<table border=\"1\" class=\"dataframe\">\n",
       "  <thead>\n",
       "    <tr style=\"text-align: right;\">\n",
       "      <th></th>\n",
       "      <th>mean</th>\n",
       "      <th>count</th>\n",
       "    </tr>\n",
       "    <tr>\n",
       "      <th>athlete_age</th>\n",
       "      <th></th>\n",
       "      <th></th>\n",
       "    </tr>\n",
       "  </thead>\n",
       "  <tbody>\n",
       "    <tr>\n",
       "      <th>25</th>\n",
       "      <td>10.023000</td>\n",
       "      <td>2</td>\n",
       "    </tr>\n",
       "    <tr>\n",
       "      <th>28</th>\n",
       "      <td>9.712333</td>\n",
       "      <td>3</td>\n",
       "    </tr>\n",
       "    <tr>\n",
       "      <th>29</th>\n",
       "      <td>9.707250</td>\n",
       "      <td>4</td>\n",
       "    </tr>\n",
       "    <tr>\n",
       "      <th>36</th>\n",
       "      <td>9.359000</td>\n",
       "      <td>1</td>\n",
       "    </tr>\n",
       "    <tr>\n",
       "      <th>34</th>\n",
       "      <td>9.142750</td>\n",
       "      <td>4</td>\n",
       "    </tr>\n",
       "    <tr>\n",
       "      <th>38</th>\n",
       "      <td>8.908750</td>\n",
       "      <td>4</td>\n",
       "    </tr>\n",
       "    <tr>\n",
       "      <th>43</th>\n",
       "      <td>8.795000</td>\n",
       "      <td>5</td>\n",
       "    </tr>\n",
       "    <tr>\n",
       "      <th>39</th>\n",
       "      <td>8.446000</td>\n",
       "      <td>6</td>\n",
       "    </tr>\n",
       "    <tr>\n",
       "      <th>31</th>\n",
       "      <td>8.445000</td>\n",
       "      <td>7</td>\n",
       "    </tr>\n",
       "    <tr>\n",
       "      <th>51</th>\n",
       "      <td>8.315500</td>\n",
       "      <td>4</td>\n",
       "    </tr>\n",
       "  </tbody>\n",
       "</table>\n",
       "</div>"
      ],
      "text/plain": [
       "                  mean  count\n",
       "athlete_age                  \n",
       "25           10.023000      2\n",
       "28            9.712333      3\n",
       "29            9.707250      4\n",
       "36            9.359000      1\n",
       "34            9.142750      4\n",
       "38            8.908750      4\n",
       "43            8.795000      5\n",
       "39            8.446000      6\n",
       "31            8.445000      7\n",
       "51            8.315500      4"
      ]
     },
     "execution_count": 46,
     "metadata": {},
     "output_type": "execute_result"
    }
   ],
   "source": [
    "# Q)  what age groups are the best?\n",
    "df.groupby('athlete_age')['athlete_average_speed'].agg(['mean','count']).sort_values('mean',ascending=False).head(10)"
   ]
  },
  {
   "cell_type": "code",
   "execution_count": 47,
   "id": "f0e66702",
   "metadata": {},
   "outputs": [
    {
     "data": {
      "image/png": "[encoded data removed]",
      "text/plain": [
       "<Figure size 1000x600 with 1 Axes>"
      ]
     },
     "metadata": {},
     "output_type": "display_data"
    }
   ],
   "source": [
    "result = df.groupby('athlete_age')['athlete_average_speed'].agg(['mean','count']).sort_values('mean',ascending=False).head(5)\n",
    "plt.figure(figsize=(10, 6))\n",
    "sns.barplot(x=result.index, y=result['mean'], color='skyblue', order=result.index)\n",
    "plt.ylim(8, 10.1)\n",
    "plt.xlabel('Athlete Age')\n",
    "plt.ylabel('Average Speed')\n",
    "plt.title('Top 10 Best Athlete Ages by The Average Speed')\n",
    "plt.show()"
   ]
  },
  {
   "cell_type": "code",
   "execution_count": 48,
   "id": "0b68f6f5",
   "metadata": {},
   "outputs": [
    {
     "data": {
      "text/html": [
       "<div>\n",
       "<style scoped>\n",
       "    .dataframe tbody tr th:only-of-type {\n",
       "        vertical-align: middle;\n",
       "    }\n",
       "\n",
       "    .dataframe tbody tr th {\n",
       "        vertical-align: top;\n",
       "    }\n",
       "\n",
       "    .dataframe thead th {\n",
       "        text-align: right;\n",
       "    }\n",
       "</style>\n",
       "<table border=\"1\" class=\"dataframe\">\n",
       "  <thead>\n",
       "    <tr style=\"text-align: right;\">\n",
       "      <th></th>\n",
       "      <th>mean</th>\n",
       "      <th>count</th>\n",
       "    </tr>\n",
       "    <tr>\n",
       "      <th>athlete_age</th>\n",
       "      <th></th>\n",
       "      <th></th>\n",
       "    </tr>\n",
       "  </thead>\n",
       "  <tbody>\n",
       "    <tr>\n",
       "      <th>58</th>\n",
       "      <td>6.645000</td>\n",
       "      <td>1</td>\n",
       "    </tr>\n",
       "    <tr>\n",
       "      <th>23</th>\n",
       "      <td>6.699000</td>\n",
       "      <td>1</td>\n",
       "    </tr>\n",
       "    <tr>\n",
       "      <th>60</th>\n",
       "      <td>6.825667</td>\n",
       "      <td>3</td>\n",
       "    </tr>\n",
       "    <tr>\n",
       "      <th>61</th>\n",
       "      <td>6.919000</td>\n",
       "      <td>1</td>\n",
       "    </tr>\n",
       "    <tr>\n",
       "      <th>54</th>\n",
       "      <td>6.970667</td>\n",
       "      <td>3</td>\n",
       "    </tr>\n",
       "    <tr>\n",
       "      <th>78</th>\n",
       "      <td>6.988000</td>\n",
       "      <td>1</td>\n",
       "    </tr>\n",
       "    <tr>\n",
       "      <th>47</th>\n",
       "      <td>7.027000</td>\n",
       "      <td>5</td>\n",
       "    </tr>\n",
       "    <tr>\n",
       "      <th>26</th>\n",
       "      <td>7.192000</td>\n",
       "      <td>3</td>\n",
       "    </tr>\n",
       "    <tr>\n",
       "      <th>52</th>\n",
       "      <td>7.201250</td>\n",
       "      <td>4</td>\n",
       "    </tr>\n",
       "    <tr>\n",
       "      <th>30</th>\n",
       "      <td>7.219167</td>\n",
       "      <td>6</td>\n",
       "    </tr>\n",
       "  </tbody>\n",
       "</table>\n",
       "</div>"
      ],
      "text/plain": [
       "                 mean  count\n",
       "athlete_age                 \n",
       "58           6.645000      1\n",
       "23           6.699000      1\n",
       "60           6.825667      3\n",
       "61           6.919000      1\n",
       "54           6.970667      3\n",
       "78           6.988000      1\n",
       "47           7.027000      5\n",
       "26           7.192000      3\n",
       "52           7.201250      4\n",
       "30           7.219167      6"
      ]
     },
     "execution_count": 48,
     "metadata": {},
     "output_type": "execute_result"
    }
   ],
   "source": [
    "# Q)  what age groups are the worst?\n",
    "df.groupby('athlete_age')['athlete_average_speed'].agg(['mean','count']).sort_values('mean',ascending=True).head(10)"
   ]
  },
  {
   "cell_type": "code",
   "execution_count": 49,
   "id": "27420497",
   "metadata": {},
   "outputs": [
    {
     "data": {
      "image/png": "[encoded data removed]",
      "text/plain": [
       "<Figure size 1000x600 with 1 Axes>"
      ]
     },
     "metadata": {},
     "output_type": "display_data"
    }
   ],
   "source": [
    "result = df.groupby('athlete_age')['athlete_average_speed'].agg(['mean','count']).sort_values('mean',ascending=False).tail(5)\n",
    "plt.figure(figsize=(10, 6))\n",
    "sns.barplot(x=result.index, y=result['mean'], color='skyblue', order=result.index)\n",
    "plt.ylim(6.4, 7)\n",
    "plt.xlabel('Athlete Age')\n",
    "plt.ylabel('Mean Average Speed')\n",
    "plt.title('Top 10 Worst Athlete Ages by The Average Speed')\n",
    "plt.show()"
   ]
  },
  {
   "cell_type": "code",
   "execution_count": 50,
   "id": "a9bb6474",
   "metadata": {},
   "outputs": [
    {
     "data": {
      "image/png": "[encoded data removed]",
      "text/plain": [
       "<Figure size 1000x600 with 1 Axes>"
      ]
     },
     "metadata": {},
     "output_type": "display_data"
    }
   ],
   "source": [
    "result = df.groupby('athlete_age')['athlete_average_speed'].mean().reset_index()\n",
    "plt.figure(figsize=(10, 6))\n",
    "sns.lineplot(x='athlete_age', y='athlete_average_speed', data=result, marker='o', color='skyblue')\n",
    "plt.xlabel('Athlete Age')\n",
    "plt.ylabel('Average Speed')\n",
    "plt.title('Average Speed Across Age Groups')\n",
    "plt.show()\n"
   ]
  }
 ],
 "metadata": {
  "kernelspec": {
   "display_name": "Python 3 (ipykernel)",
   "language": "python",
   "name": "python3"
  },
  "language_info": {
   "codemirror_mode": {
    "name": "ipython",
    "version": 3
   },
   "file_extension": ".py",
   "mimetype": "text/x-python",
   "name": "python",
   "nbconvert_exporter": "python",
   "pygments_lexer": "ipython3",
   "version": "3.11.5"
  }
 },
 "nbformat": 4,
 "nbformat_minor": 5
}
